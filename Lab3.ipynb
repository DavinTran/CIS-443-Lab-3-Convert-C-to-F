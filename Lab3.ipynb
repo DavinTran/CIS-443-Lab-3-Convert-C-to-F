{
  "cells": [
    {
      "cell_type": "markdown",
      "metadata": {
        "id": "lN1bE03duXEt"
      },
      "source": [
        "# CIS 443-01 - Analytics Programming\n",
        "## Lab 3\n",
        "__Grading ID__: KP1141 (double click the cell in Jupyter to edit, find ID in Blackboard Gradebook)<br>\n",
        "__Due__: Monday, February 6 (by 11:59 PM)<br />\n",
        "__Worth__: 25 pts."
      ]
    },
    {
      "cell_type": "markdown",
      "metadata": {
        "id": "P2g2ldwsuXEx"
      },
      "source": [
        "### Directions\n",
        "Exercise 4.9, p. 152 (Temperature Conversion) Implement a `fahrenheit` function that returns the Fahrenheit equivalent of a Celsius temperature. Use the following formula:<br />\n",
        "F = (9 / 5) * C + 32<br />\n",
        "Use this function to print a chart showing the Fahrenheit equivalents of all Celsius temperatures in the range 0–100 degrees. Use one digit of precision for the results. Print the outputs in a neat tabular format.<br />\n",
        "__Note__: Feel free to change the function's name to something more verb-oriented, such as `convert_C_to_F`. The function should only return the calculated Fahrenheit temperature - it is not asked to print the value. The output table is printed in the application code by calling the function repeatedly from within a counter-controlled loop.\n"
      ]
    },
    {
      "cell_type": "code",
      "execution_count": 1,
      "metadata": {
        "id": "BT0x-iUNuXEy",
        "colab": {
          "base_uri": "https://localhost:8080/"
        },
        "outputId": "e0f39de7-a1c6-479e-d9af-648995cf197d"
      },
      "outputs": [
        {
          "output_type": "stream",
          "name": "stdout",
          "text": [
            "Celsius   | Farenheit\n",
            "    0         32.00\n",
            "    1         33.80\n",
            "    2         35.60\n",
            "    3         37.40\n",
            "    4         39.20\n",
            "    5         41.00\n",
            "    6         42.80\n",
            "    7         44.60\n",
            "    8         46.40\n",
            "    9         48.20\n",
            "   10         50.00\n",
            "   11         51.80\n",
            "   12         53.60\n",
            "   13         55.40\n",
            "   14         57.20\n",
            "   15         59.00\n",
            "   16         60.80\n",
            "   17         62.60\n",
            "   18         64.40\n",
            "   19         66.20\n",
            "   20         68.00\n",
            "   21         69.80\n",
            "   22         71.60\n",
            "   23         73.40\n",
            "   24         75.20\n",
            "   25         77.00\n",
            "   26         78.80\n",
            "   27         80.60\n",
            "   28         82.40\n",
            "   29         84.20\n",
            "   30         86.00\n",
            "   31         87.80\n",
            "   32         89.60\n",
            "   33         91.40\n",
            "   34         93.20\n",
            "   35         95.00\n",
            "   36         96.80\n",
            "   37         98.60\n",
            "   38        100.40\n",
            "   39        102.20\n",
            "   40        104.00\n",
            "   41        105.80\n",
            "   42        107.60\n",
            "   43        109.40\n",
            "   44        111.20\n",
            "   45        113.00\n",
            "   46        114.80\n",
            "   47        116.60\n",
            "   48        118.40\n",
            "   49        120.20\n",
            "   50        122.00\n",
            "   51        123.80\n",
            "   52        125.60\n",
            "   53        127.40\n",
            "   54        129.20\n",
            "   55        131.00\n",
            "   56        132.80\n",
            "   57        134.60\n",
            "   58        136.40\n",
            "   59        138.20\n",
            "   60        140.00\n",
            "   61        141.80\n",
            "   62        143.60\n",
            "   63        145.40\n",
            "   64        147.20\n",
            "   65        149.00\n",
            "   66        150.80\n",
            "   67        152.60\n",
            "   68        154.40\n",
            "   69        156.20\n",
            "   70        158.00\n",
            "   71        159.80\n",
            "   72        161.60\n",
            "   73        163.40\n",
            "   74        165.20\n",
            "   75        167.00\n",
            "   76        168.80\n",
            "   77        170.60\n",
            "   78        172.40\n",
            "   79        174.20\n",
            "   80        176.00\n",
            "   81        177.80\n",
            "   82        179.60\n",
            "   83        181.40\n",
            "   84        183.20\n",
            "   85        185.00\n",
            "   86        186.80\n",
            "   87        188.60\n",
            "   88        190.40\n",
            "   89        192.20\n",
            "   90        194.00\n",
            "   91        195.80\n",
            "   92        197.60\n",
            "   93        199.40\n",
            "   94        201.20\n",
            "   95        203.00\n",
            "   96        204.80\n",
            "   97        206.60\n",
            "   98        208.40\n",
            "   99        210.20\n",
            "  100        212.00\n"
          ]
        }
      ],
      "source": [
        "fun=lambda C:(9/5)*C+32 #lambda function to convert C to F\n",
        "\n",
        "C=[i for i in range(101)] #celsius list\n",
        "F=list(map(fun,C))    #mapping fun to teh celsius list to get F values\n",
        "\n",
        "print(\"Celsius   | Farenheit\")\n",
        "for c,f in zip(C,F):  #printing\n",
        "    print(\"%5d  %12.2f\"%(c,f))"
      ]
    },
    {
      "cell_type": "markdown",
      "metadata": {
        "id": "q8s79p9EuXEz"
      },
      "source": [
        "Be sure to save and exit your Jupyter Notebook and Shutdown Jupyter Lab (from the __File__ menu) if using Ananconda before you submit your notebook on Blackboard for grading. If using Colab, be sure to Download (from the __File__ menu) back to your local file system before submitting to Blackboard.\n",
        "Make sure you don't submit the empty starting notebook by accident."
      ]
    }
  ],
  "metadata": {
    "colab": {
      "provenance": []
    },
    "kernelspec": {
      "display_name": "Python 3 (ipykernel)",
      "language": "python",
      "name": "python3"
    },
    "language_info": {
      "codemirror_mode": {
        "name": "ipython",
        "version": 3
      },
      "file_extension": ".py",
      "mimetype": "text/x-python",
      "name": "python",
      "nbconvert_exporter": "python",
      "pygments_lexer": "ipython3",
      "version": "3.9.7"
    }
  },
  "nbformat": 4,
  "nbformat_minor": 0
}